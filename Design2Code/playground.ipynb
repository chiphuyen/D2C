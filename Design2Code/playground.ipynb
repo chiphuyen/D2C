{
 "cells": [
  {
   "cell_type": "code",
   "execution_count": 7,
   "metadata": {},
   "outputs": [],
   "source": [
    "import os\n",
    "workspace = '/Users/chip/dev/anyscale'\n",
    "partition = 'train-00000-of-00738-80a58552f2fb3344-small'\n",
    "outdir = f'{workspace}/{partition}'\n",
    "imgdir = f'{outdir}/image'\n",
    "os.makedirs(imgdir, exist_ok=True)\n",
    "fnames = sorted([f for f in os.listdir(outdir) if f.endswith('html') and os.path.isfile(os.path.join(outdir, f))])"
   ]
  },
  {
   "cell_type": "code",
   "execution_count": 68,
   "metadata": {},
   "outputs": [
    {
     "name": "stdout",
     "output_type": "stream",
     "text": [
      "Fashion Brand Fashion Brand Fashion Brand is a leading fashion brand that offers a wide range of high-quality, stylish clothing and accessories. Our collections are designed to reflect the latest fashion trends and are made from high-quality materials. We are committed to providing our customers with the best possible shopping experience and we strive to make our collections accessible to all. Home About Contact\n"
     ]
    }
   ],
   "source": [
    "from bs4 import BeautifulSoup\n",
    "\n",
    "def extract_text(html):\n",
    "    # Use BeautifulSoup to parse the HTML content\n",
    "    soup = BeautifulSoup(html_content, 'html.parser')\n",
    "    # Extract all text from the parsed HTML\n",
    "    text = soup.get_text()\n",
    "    # Print the extracted text\n",
    "    return ' '.join(text.split())\n",
    "\n",
    "fname = fnames[0]\n",
    "with open(os.path.join(outdir, fname), 'r') as f:\n",
    "    html_content = f.read().strip()\n",
    "    print(extract_text(html_content))\n"
   ]
  },
  {
   "cell_type": "code",
   "execution_count": 54,
   "metadata": {},
   "outputs": [
    {
     "name": "stdout",
     "output_type": "stream",
     "text": [
      "<!doctype html> <html lang=\"en\"> <head>   <meta charset=\"utf-8\">   <meta name=\"viewport\" content=\"width=device-width, initial-scale=1.0\">   <title>welcome to our technology company</title>   <script src=\"https://cdn.tailwindcss.com\"></script>   <style>     body {       font-family: 'arial', sans-serif;       background-color: #000;       color: #fff;     }     .header {       background-color: #000;       color: #fff;       padding: 20px;       margin: 0;       border: 0;     }     .header h1 {       font-size: 36px;       margin: 0;     }     .header p {       font-size: 18px;       margin: 0;     }     .content {       background-color: #000;       color: #fff;       padding: 20px;       margin: 0;       border: 0;     }     .content p {       font-size: 18px;       margin: 0;     }     .footer {       background-color: #000;       color: #fff;       padding: 20px;       margin: 0;       border: 0;     }     .footer p {       font-size: 18px;       margin: 0;     }   </style> </head>\n",
      "====================\n",
      "<!doctype html> <html lang=\"en\"> <head> <meta charset=\"utf-8\"/> <meta content=\"width=device-width, initial-scale=1.0\" name=\"viewport\"/> <title>welcome to our technology company</title> <script src=\"https://cdn.tailwindcss.com\"></script> <style>     body {       font-family: 'arial', sans-serif;       background-color: #000;       color: #fff;     }     .header {       background-color: #000;       color: #fff;       padding: 20px;       margin: 0;       border: 0;     }     .header h1 {       font-size: 36px;       margin: 0;     }     .header p {       font-size: 18px;       margin: 0;     }     .content {       background-color: #000;       color: #fff;       padding: 20px;       margin: 0;       border: 0;     }     .content p {       font-size: 18px;       margin: 0;     }     .footer {       background-color: #000;       color: #fff;       padding: 20px;       margin: 0;       border: 0;     }     .footer p {       font-size: 18px;       margin: 0;     }   </style> </head> <body> \n",
      "False\n"
     ]
    }
   ],
   "source": []
  },
  {
   "cell_type": "code",
   "execution_count": 46,
   "metadata": {},
   "outputs": [
    {
     "name": "stdout",
     "output_type": "stream",
     "text": [
      "False\n",
      "False\n",
      "False\n",
      "False\n",
      "False\n",
      "False\n",
      "False\n",
      "False\n",
      "False\n",
      "False\n"
     ]
    }
   ],
   "source": []
  },
  {
   "cell_type": "code",
   "execution_count": 65,
   "metadata": {},
   "outputs": [],
   "source": [
    "from html.parser import HTMLParser\n",
    "\n",
    "class MyHTMLValidator(HTMLParser):\n",
    "    def __init__(self, *args, **kwargs):\n",
    "        super().__init__(*args, **kwargs)\n",
    "        self.stack = []\n",
    "        self.errors = []\n",
    "\n",
    "    def handle_starttag(self, tag, attrs):\n",
    "        self.stack.append(tag)\n",
    "\n",
    "    def handle_endtag(self, tag):\n",
    "        if not self.stack or self.stack[-1] != tag:\n",
    "            self.errors.append(f\"Unexpected closing tag: {tag} or missing closing tag for {self.stack[-1]}\")\n",
    "        else:\n",
    "            self.stack.pop()\n",
    "\n",
    "    def validate(self, html):\n",
    "        self.feed(html)\n",
    "        # Check for any unclosed tags\n",
    "        if self.stack:\n",
    "            self.errors.extend([f\"Missing closing tag for {tag}\" for tag in self.stack])\n",
    "        return self.errors\n",
    "\n",
    "\n",
    "def validate_html_tags(fnames):\n",
    "    \"\"\"Return the number HTML errors like missing closing tags.\n",
    "    Note that even the original HTML code has a lot of missing closing tags\"\"\"\n",
    "    validator = MyHTMLValidator()\n",
    "    error_counts = []\n",
    "    for fname in fnames:\n",
    "        with open(os.path.join(outdir, fname), 'r') as f:\n",
    "            html_content = f.read().strip()\n",
    "            errors = validator.validate(html_content)\n",
    "            error_counts.add(len(errors))\n",
    "        return sum(error_counts) / len(error_counts)\n"
   ]
  },
  {
   "cell_type": "code",
   "execution_count": 61,
   "metadata": {},
   "outputs": [
    {
     "name": "stdout",
     "output_type": "stream",
     "text": [
      "HTML Errors Found: 24\n",
      "Unexpected closing tag: head or missing closing tag for meta\n",
      "Unexpected closing tag: div or missing closing tag for img\n",
      "Unexpected closing tag: div or missing closing tag for img\n",
      "Unexpected closing tag: body or missing closing tag for img\n",
      "Unexpected closing tag: html or missing closing tag for img\n",
      "Missing closing tag for html\n",
      "Missing closing tag for head\n",
      "Missing closing tag for meta\n",
      "Missing closing tag for meta\n",
      "Missing closing tag for body\n",
      "Missing closing tag for div\n",
      "Missing closing tag for div\n",
      "Missing closing tag for img\n",
      "Unexpected closing tag: html or missing closing tag for link\n",
      "Missing closing tag for html\n",
      "Missing closing tag for head\n",
      "Missing closing tag for meta\n",
      "Missing closing tag for meta\n",
      "Missing closing tag for body\n",
      "Missing closing tag for div\n",
      "Missing closing tag for div\n",
      "Missing closing tag for img\n",
      "Missing closing tag for html\n",
      "Missing closing tag for link\n"
     ]
    }
   ],
   "source": [
    "gturl = '/Users/chip/dev/anyscale/data/eval-d2c/train-00000-of-00738-80a58552f2fb3344-1.html'\n",
    "with open(os.path.join(outdir, gturl), 'r') as f:\n",
    "    html_content = f.read().strip()\n",
    "    errors = validator.validate(html_content)\n",
    "\n",
    "    if errors:\n",
    "        print(\"HTML Errors Found:\", len(errors))\n",
    "        for error in errors:\n",
    "            print(error)\n",
    "    else:\n",
    "        print(\"No HTML errors found.\")"
   ]
  },
  {
   "cell_type": "code",
   "execution_count": null,
   "metadata": {},
   "outputs": [],
   "source": [
    "from bs4 import BeautifulSoup\n",
    "def is_proper_html(text):\n",
    "    try:\n",
    "        # Parse the text with BeautifulSoup using the \"html.parser\"\n",
    "        soup = BeautifulSoup(text, \"html.parser\")\n",
    "        # Generate the parsed text back to HTML string\n",
    "        parsed_html = soup.prettify()\n",
    "        # If parsing was successful and didn't result in an empty string, consider it proper HTML\n",
    "        return bool(parsed_html.strip())\n",
    "    except Exception as e:\n",
    "        # If any parsing error occurs, it's not proper HTML\n",
    "        return False"
   ]
  },
  {
   "cell_type": "code",
   "execution_count": null,
   "metadata": {},
   "outputs": [],
   "source": [
    "from bs4 import BeautifulSoup\n",
    "\n",
    "def has_basic_structure_and_closing_tags(html):\n",
    "    soup = BeautifulSoup(html, 'html.parser')\n",
    "    \n",
    "    # Check for essential HTML structure: <html>, <head>, <title>, <body>\n",
    "    if not soup.html or not soup.head or not soup.title or not soup.body:\n",
    "        return False\n",
    "    \n",
    "    # Attempt to find obviously unclosed tags by converting the parsed structure back to string\n",
    "    # and comparing it with the original HTML string.\n",
    "    # This is a simplistic approach and might not catch nested or complex issues.\n",
    "    rebuilt_html = str(soup)\n",
    "    clean_rebuilt = rebuilt_html.strip().replace('\\n', ' ').replace('  ', ' ').lower()\n",
    "    clean_html = html.strip().replace('\\n', ' ').replace('  ', ' ').lower()\n",
    "    # print(rebuilt_html)\n",
    "    # This comparison is very basic and might falsely flag correctly structured HTML\n",
    "    # as incorrect if BeautifulSoup reformats the HTML, which it often does.\n",
    "    print(clean_html[:1000])\n",
    "    print(\"=\" * 20)\n",
    "    print(clean_rebuilt[:1000])\n",
    "    return clean_rebuilt == clean_html\n",
    "\n",
    "# Example HTML\n",
    "html_text = \"<html><head><title>Test Page</title></head><body><p>Sample Text</p></body></html>\"\n",
    "\n",
    "# Test the function\n",
    "print(has_basic_structure_and_closing_tags(html_content))\n",
    "# print(has_basic_structure_and_closing_tags(html_text))\n"
   ]
  },
  {
   "cell_type": "code",
   "execution_count": null,
   "metadata": {},
   "outputs": [],
   "source": [
    "for fname in fnames:\n",
    "    with open(os.path.join(outdir, fname), 'r') as f:\n",
    "        html_content = f.read().strip()\n",
    "        print(has_basic_structure_and_closing_tags(html_content))"
   ]
  },
  {
   "cell_type": "code",
   "execution_count": null,
   "metadata": {},
   "outputs": [],
   "source": [
    "from lxml import html, etree\n",
    "\n",
    "def is_well_formed_html(text):\n",
    "    try:\n",
    "        # Parse the text using lxml's HTML parser\n",
    "        document = html.fromstring(text)\n",
    "        # Serialize it back to a string\n",
    "        serialized_document = etree.tostring(document, pretty_print=True, method=\"html\").decode()\n",
    "        # If no exception was raised during parsing, we consider it well-formed\n",
    "        return True\n",
    "    except etree.XMLSyntaxError as e:\n",
    "        # If a parsing error occurs, it's not well-formed HTML\n",
    "        return False\n",
    "\n",
    "# Example usage:\n",
    "html_text = \"<ht><head><title>Valid Title</title></head><body><p>Hello World!</p>\"\n",
    "print(is_well_formed_html(html_text))\n"
   ]
  }
 ],
 "metadata": {
  "kernelspec": {
   "display_name": "d2c311",
   "language": "python",
   "name": "python3"
  },
  "language_info": {
   "codemirror_mode": {
    "name": "ipython",
    "version": 3
   },
   "file_extension": ".py",
   "mimetype": "text/x-python",
   "name": "python",
   "nbconvert_exporter": "python",
   "pygments_lexer": "ipython3",
   "version": "3.11.8"
  }
 },
 "nbformat": 4,
 "nbformat_minor": 2
}
